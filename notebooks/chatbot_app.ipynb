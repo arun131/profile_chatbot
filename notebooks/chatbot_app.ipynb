{
 "cells": [
  {
   "cell_type": "code",
   "execution_count": 1,
   "id": "05c958c7",
   "metadata": {},
   "outputs": [
    {
     "name": "stderr",
     "output_type": "stream",
     "text": [
      "/home/arunraj/development/profile_chatbot/.venv/lib/python3.10/site-packages/tqdm/auto.py:21: TqdmWarning: IProgress not found. Please update jupyter and ipywidgets. See https://ipywidgets.readthedocs.io/en/stable/user_install.html\n",
      "  from .autonotebook import tqdm as notebook_tqdm\n"
     ]
    }
   ],
   "source": [
    "import os\n",
    "from dotenv import load_dotenv\n",
    "import dspy\n",
    "\n",
    "# Load environment variables\n",
    "load_dotenv()\n",
    "\n",
    "# Configure the Gemini model\n",
    "llm = dspy.LM(\n",
    "    model=\"gemini/gemini-1.5-flash-latest\",\n",
    "    api_key=os.getenv(\"GEMINI_API_KEY\")\n",
    ")\n",
    "dspy.configure(lm=llm)\n",
    "\n",
    "# Define a simple chat signature\n",
    "class SimpleChat(dspy.Signature):\n",
    "    \"\"\"Basic chatbot that responds clearly.\"\"\"\n",
    "    question = dspy.InputField()\n",
    "    answer = dspy.OutputField()\n",
    "\n",
    "# Create a callable DSPy module\n",
    "chat_module = dspy.Predict(SimpleChat)\n",
    "\n",
    "# Inference function\n",
    "def get_bot_response(message: str) -> str:\n",
    "    result = chat_module(question=message)\n",
    "    return result.answer\n"
   ]
  },
  {
   "cell_type": "code",
   "execution_count": 7,
   "id": "8989ec94",
   "metadata": {},
   "outputs": [
    {
     "name": "stdout",
     "output_type": "stream",
     "text": [
      "The first letter of my name is R.\n"
     ]
    }
   ],
   "source": [
    "sys_message = \"\"\"System Mesage: Your name is Rahul.\"\"\"\n",
    "message = \"Whats the first letter of you name?\"\n",
    "print(get_bot_response(sys_message + message))"
   ]
  },
  {
   "cell_type": "code",
   "execution_count": null,
   "id": "55f70575",
   "metadata": {},
   "outputs": [],
   "source": []
  }
 ],
 "metadata": {
  "kernelspec": {
   "display_name": ".venv",
   "language": "python",
   "name": "python3"
  },
  "language_info": {
   "codemirror_mode": {
    "name": "ipython",
    "version": 3
   },
   "file_extension": ".py",
   "mimetype": "text/x-python",
   "name": "python",
   "nbconvert_exporter": "python",
   "pygments_lexer": "ipython3",
   "version": "3.10.12"
  }
 },
 "nbformat": 4,
 "nbformat_minor": 5
}
